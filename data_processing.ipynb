{
 "cells": [
  {
   "cell_type": "code",
   "execution_count": null,
   "metadata": {},
   "outputs": [
    {
     "name": "stdout",
     "output_type": "stream",
     "text": [
      "Total pairs: 38\n",
      "('ful', 'ful') : (p=u, es=True, hu=True)\n",
      "('lys', 'lys') : (p=y, es=False, hu=True)\n",
      "('mæt', 'mæt') : (p=æ, es=False, hu=False)\n",
      "('kat', 'kat') : (p=a, es=True, hu=True)\n",
      "('ben', 'ben') : (p=e, es=True, hu=True)\n",
      "('grå', 'grå') : (p=ʁ, es=False, hu=False)\n",
      "('nø', 'nø') : (p=ø, es=False, hu=True)\n",
      "('rød', 'rød') : (p=ʁ, es=False, hu=False)\n",
      "('møl', 'møl') : (p=ø, es=False, hu=True)\n",
      "('syr', 'syr') : (p=y, es=False, hu=True)\n",
      "('dør', 'dør') : (p=ɶ, es=False, hu=False)\n",
      "('skæl', 'skæl') : (p=æ, es=False, hu=False)\n",
      "('røre', 'røre') : (p=ʁ, es=False, hu=False)\n",
      "('fuld', 'fuld') : (p=u, es=True, hu=True)\n",
      "('ful', 'fyl') : (p=y, es=False, hu=True)\n",
      "('syn', 'søn') : (p=ø, es=False, hu=True)\n",
      "('set', 'sæt') : (p=æ, es=False, hu=False)\n",
      "('kat', 'kæt') : (p=æ, es=False, hu=False)\n",
      "('fisk', 'fæsk') : (p=æ, es=False, hu=False)\n",
      "('lys', 'los') : (p=y, es=False, hu=True)\n",
      "('ben', 'bøn') : (p=ø, es=False, hu=True)\n",
      "('nø', 'nu') : (p=ø, es=False, hu=True)\n",
      "('rød', 'ryd') : (p=y, es=False, hu=True)\n",
      "('mølle', 'mulle') : (p=ø, es=False, hu=True)\n",
      "('syd', 'sød') : (p=y, es=False, hu=True)\n",
      "('tat', 'tæt') : (p=æ, es=False, hu=False)\n",
      "('sø', 'su') : (p=ø, es=False, hu=True)\n",
      "('væg', 'vægt') : (p=ɡ, es=True, hu=True)\n",
      "('løg', 'ly') : (p=y, es=False, hu=True)\n",
      "('rør', 'rær') : (p=æ, es=False, hu=False)\n",
      "('rød', 'lød') : (p=ʁ, es=False, hu=False)\n",
      "('fuld', 'fugl') : (p=u, es=True, hu=True)\n",
      "('gul', 'guld') : (p=u, es=True, hu=True)\n",
      "('sinde', 'sende') : (p=i, es=True, hu=True)\n",
      "('pil', 'bil') : (p=p, es=True, hu=True)\n",
      "('ven', 'pen') : (p=v, es=True, hu=True)\n",
      "('lidt', 'let') : (p=ɛ, es=True, hu=True)\n",
      "('før', 'fær') : (p=æ, es=False, hu=False)\n"
     ]
    }
   ],
   "source": [
    "# Define the Phoneme class\n",
    "class Phoneme:\n",
    "    def __init__(self, p: str, es: bool, hu: bool):\n",
    "        self.p = p \n",
    "        self.es = es\n",
    "        self.hu = hu\n",
    "\n",
    "    def __repr__(self):\n",
    "        return f\"(p={self.p}, es={True if self.es else False}, hu={True if self.hu else False})\"\n",
    "\n",
    "\n",
    "# Create p objects for each unique p\n",
    "phonemes = {\n",
    "    \"y\": Phoneme(p=\"y\", es=False, hu=True),\n",
    "    \"æ\": Phoneme(p=\"æ\", es=False, hu=False),\n",
    "    \"ø\": Phoneme(p=\"ø\", es=False, hu=True),\n",
    "    \"ʁ\": Phoneme(p=\"ʁ\", es=False, hu=False),\n",
    "    \"ɶ\": Phoneme(p=\"ɶ\", es=False, hu=False),\n",
    "    \"u\": Phoneme(p=\"u\", es=True, hu=True),\n",
    "    \"e\": Phoneme(p=\"e\", es=True, hu=True),\n",
    "    \"i\": Phoneme(p=\"i\", es=True, hu=True),\n",
    "    \"a\": Phoneme(p=\"a\", es=True, hu=True),\n",
    "    \"ɛ\": Phoneme(p=\"ɛ\", es=True, hu=True),\n",
    "    \"ɡ\": Phoneme(p=\"ɡ\", es=True, hu=True),\n",
    "    \"v\": Phoneme(p=\"v\", es=True, hu=True),\n",
    "    \"p\": Phoneme(p=\"p\", es=True, hu=True),\n",
    "}\n",
    "\n",
    "\n",
    "# Dictionary for pairs and their associated p contrasts\n",
    "pairs_phonemes = {\n",
    "    ('ful', 'ful'): phonemes['u'],\n",
    "    ('lys', 'lys'): phonemes['y'],\n",
    "    ('mæt', 'mæt'): phonemes['æ'],\n",
    "    ('kat', 'kat'): phonemes['a'],\n",
    "    ('ben', 'ben'): phonemes['e'],\n",
    "    ('grå', 'grå'): phonemes['ʁ'],\n",
    "    ('nø', 'nø'): phonemes['ø'],\n",
    "    ('rød', 'rød'): phonemes['ʁ'],\n",
    "    ('møl', 'møl'): phonemes['ø'],\n",
    "    ('syr', 'syr'): phonemes['y'],\n",
    "    ('dør', 'dør'): phonemes['ɶ'],\n",
    "    ('skæl', 'skæl'): phonemes['æ'],\n",
    "    ('røre', 'røre'): phonemes['ʁ'],\n",
    "    ('fuld', 'fuld'): phonemes['u'],\n",
    "    ('ful', 'fyl'): phonemes['y'],\n",
    "    ('syn', 'søn'): phonemes['ø'],\n",
    "    ('set', 'sæt'): phonemes['æ'],\n",
    "    ('kat', 'kæt'): phonemes['æ'],\n",
    "    ('fisk', 'fæsk'): phonemes['æ'],\n",
    "    ('lys', 'los'): phonemes['y'],\n",
    "    ('ben', 'bøn'): phonemes['ø'],\n",
    "    ('nø', 'nu'): phonemes['ø'],\n",
    "    ('rød', 'ryd'): phonemes['y'],\n",
    "    ('mølle', 'mulle'): phonemes['ø'],\n",
    "    ('syd', 'sød'): phonemes['y'],\n",
    "    ('tat', 'tæt'): phonemes['æ'],\n",
    "    ('sø', 'su'): phonemes['ø'],\n",
    "    ('væg', 'vægt'): phonemes['ɡ'],\n",
    "    ('løg', 'ly'): phonemes['y'],\n",
    "    ('rør', 'rær'): phonemes['æ'],\n",
    "    ('rød', 'lød'): phonemes['ʁ'],\n",
    "    ('fuld', 'fugl'): phonemes['u'],\n",
    "    ('gul', 'guld'): phonemes['u'],\n",
    "    ('sinde', 'sende'): phonemes['i'],\n",
    "    ('pil', 'bil'): phonemes['p'],\n",
    "    ('ven', 'pen'): phonemes['v'],\n",
    "    ('lidt', 'let'): phonemes['ɛ'],\n",
    "    ('før', 'fær'): phonemes['æ']\n",
    "}\n",
    "\n",
    "print(f\"Total pairs: {len(pairs_phonemes)}\")\n",
    "\n",
    "for pair, p in pairs_phonemes.items():\n",
    "    print(f\"{pair} : {p}\")"
   ]
  },
  {
   "cell_type": "code",
   "execution_count": 70,
   "metadata": {},
   "outputs": [
    {
     "name": "stdout",
     "output_type": "stream",
     "text": [
      "Defaulting to user installation because normal site-packages is not writeable\n",
      "Requirement already satisfied: pandas in c:\\users\\kaiusz\\appdata\\roaming\\python\\python312\\site-packages (2.2.3)\n",
      "Requirement already satisfied: numpy>=1.26.0 in c:\\users\\kaiusz\\appdata\\roaming\\python\\python312\\site-packages (from pandas) (2.1.3)\n",
      "Requirement already satisfied: python-dateutil>=2.8.2 in c:\\users\\kaiusz\\appdata\\roaming\\python\\python312\\site-packages (from pandas) (2.9.0.post0)\n",
      "Requirement already satisfied: pytz>=2020.1 in c:\\users\\kaiusz\\appdata\\roaming\\python\\python312\\site-packages (from pandas) (2024.2)\n",
      "Requirement already satisfied: tzdata>=2022.7 in c:\\users\\kaiusz\\appdata\\roaming\\python\\python312\\site-packages (from pandas) (2024.2)\n",
      "Requirement already satisfied: six>=1.5 in c:\\users\\kaiusz\\appdata\\roaming\\python\\python312\\site-packages (from python-dateutil>=2.8.2->pandas) (1.16.0)\n"
     ]
    },
    {
     "name": "stderr",
     "output_type": "stream",
     "text": [
      "\n",
      "[notice] A new release of pip is available: 24.2 -> 24.3.1\n",
      "[notice] To update, run: python.exe -m pip install --upgrade pip\n"
     ]
    },
    {
     "name": "stdout",
     "output_type": "stream",
     "text": [
      "Defaulting to user installation because normal site-packages is not writeable\n",
      "Requirement already satisfied: openpyxl in c:\\users\\kaiusz\\appdata\\roaming\\python\\python312\\site-packages (3.1.5)\n",
      "Requirement already satisfied: et-xmlfile in c:\\users\\kaiusz\\appdata\\roaming\\python\\python312\\site-packages (from openpyxl) (2.0.0)\n"
     ]
    },
    {
     "name": "stderr",
     "output_type": "stream",
     "text": [
      "\n",
      "[notice] A new release of pip is available: 24.2 -> 24.3.1\n",
      "[notice] To update, run: python.exe -m pip install --upgrade pip\n"
     ]
    },
    {
     "name": "stdout",
     "output_type": "stream",
     "text": [
      "Defaulting to user installation because normal site-packages is not writeable\n",
      "Collecting matplotlib\n",
      "  Using cached matplotlib-3.9.2-cp312-cp312-win_amd64.whl.metadata (11 kB)\n",
      "Collecting contourpy>=1.0.1 (from matplotlib)\n",
      "  Downloading contourpy-1.3.1-cp312-cp312-win_amd64.whl.metadata (5.4 kB)\n",
      "Collecting cycler>=0.10 (from matplotlib)\n",
      "  Using cached cycler-0.12.1-py3-none-any.whl.metadata (3.8 kB)\n",
      "Collecting fonttools>=4.22.0 (from matplotlib)\n",
      "  Downloading fonttools-4.55.0-cp312-cp312-win_amd64.whl.metadata (167 kB)\n",
      "Collecting kiwisolver>=1.3.1 (from matplotlib)\n",
      "  Using cached kiwisolver-1.4.7-cp312-cp312-win_amd64.whl.metadata (6.4 kB)\n",
      "Requirement already satisfied: numpy>=1.23 in c:\\users\\kaiusz\\appdata\\roaming\\python\\python312\\site-packages (from matplotlib) (2.1.3)\n",
      "Requirement already satisfied: packaging>=20.0 in c:\\users\\kaiusz\\appdata\\roaming\\python\\python312\\site-packages (from matplotlib) (24.2)\n",
      "Collecting pillow>=8 (from matplotlib)\n",
      "  Downloading pillow-11.0.0-cp312-cp312-win_amd64.whl.metadata (9.3 kB)\n",
      "Collecting pyparsing>=2.3.1 (from matplotlib)\n",
      "  Downloading pyparsing-3.2.0-py3-none-any.whl.metadata (5.0 kB)\n",
      "Requirement already satisfied: python-dateutil>=2.7 in c:\\users\\kaiusz\\appdata\\roaming\\python\\python312\\site-packages (from matplotlib) (2.9.0.post0)\n",
      "Requirement already satisfied: six>=1.5 in c:\\users\\kaiusz\\appdata\\roaming\\python\\python312\\site-packages (from python-dateutil>=2.7->matplotlib) (1.16.0)\n",
      "Using cached matplotlib-3.9.2-cp312-cp312-win_amd64.whl (7.8 MB)\n",
      "Downloading contourpy-1.3.1-cp312-cp312-win_amd64.whl (220 kB)\n",
      "Using cached cycler-0.12.1-py3-none-any.whl (8.3 kB)\n",
      "Downloading fonttools-4.55.0-cp312-cp312-win_amd64.whl (2.2 MB)\n",
      "   ---------------------------------------- 0.0/2.2 MB ? eta -:--:--\n",
      "   ---------------------------------------- 2.2/2.2 MB 41.3 MB/s eta 0:00:00\n",
      "Using cached kiwisolver-1.4.7-cp312-cp312-win_amd64.whl (55 kB)\n",
      "Downloading pillow-11.0.0-cp312-cp312-win_amd64.whl (2.6 MB)\n",
      "   ---------------------------------------- 0.0/2.6 MB ? eta -:--:--\n",
      "   ---------------------------------------- 2.6/2.6 MB 37.2 MB/s eta 0:00:00\n",
      "Downloading pyparsing-3.2.0-py3-none-any.whl (106 kB)\n",
      "Installing collected packages: pyparsing, pillow, kiwisolver, fonttools, cycler, contourpy, matplotlib\n",
      "Successfully installed contourpy-1.3.1 cycler-0.12.1 fonttools-4.55.0 kiwisolver-1.4.7 matplotlib-3.9.2 pillow-11.0.0 pyparsing-3.2.0\n"
     ]
    },
    {
     "name": "stderr",
     "output_type": "stream",
     "text": [
      "\n",
      "[notice] A new release of pip is available: 24.2 -> 24.3.1\n",
      "[notice] To update, run: python.exe -m pip install --upgrade pip\n"
     ]
    }
   ],
   "source": [
    "!pip install pandas\n",
    "!pip install openpyxl\n",
    "!pip install matplotlib"
   ]
  },
  {
   "cell_type": "code",
   "execution_count": 60,
   "metadata": {},
   "outputs": [],
   "source": [
    "from typing import List\n",
    "\n",
    "class Response:\n",
    "    def __init__(self, is_correct: bool, word1: str, word2: str):\n",
    "        self.is_correct = is_correct\n",
    "        self.word1 = word1\n",
    "        self.word2 = word2\n",
    "\n",
    "    def __repr__(self):\n",
    "        return (\n",
    "            f\"Response(isCorrect={self.is_correct}, \"\n",
    "            f\"word1='{self.word1}', word2='{self.word2}')\"\n",
    "        )\n",
    "\n",
    "\n",
    "# Class for participant data\n",
    "class ParticipantData:\n",
    "    def __init__(self, participant_id: str, language: str):\n",
    "        self.id = participant_id\n",
    "        self.language = language\n",
    "        self.responses: List[Response] = []  # Initialize as an empty list\n",
    "\n",
    "    def __repr__(self):\n",
    "        return (\n",
    "            f\"ParticipantData(id={self.id}, language='{self.language}', \"\n",
    "            f\"responses={self.responses})\"\n",
    "        )"
   ]
  },
  {
   "cell_type": "code",
   "execution_count": 64,
   "metadata": {},
   "outputs": [
    {
     "name": "stdout",
     "output_type": "stream",
     "text": [
      "ParticipantData(id=muBD79cjOL5, language='Danish', responses=[Response(isCorrect=True, word1='rød', word2='rød'), Response(isCorrect=True, word1='mæt', word2='mæt'), Response(isCorrect=True, word1='skæl', word2='skæl'), Response(isCorrect=True, word1='løg', word2='ly'), Response(isCorrect=True, word1='dør', word2='dør'), Response(isCorrect=True, word1='kat', word2='kæt'), Response(isCorrect=True, word1='syn', word2='søn'), Response(isCorrect=True, word1='syd', word2='sød'), Response(isCorrect=True, word1='ven', word2='pen'), Response(isCorrect=True, word1='ben', word2='ben'), Response(isCorrect=True, word1='fisk', word2='fæsk'), Response(isCorrect=True, word1='fuld', word2='fuld'), Response(isCorrect=True, word1='rød', word2='lød'), Response(isCorrect=True, word1='kat', word2='kat'), Response(isCorrect=True, word1='mølle', word2='mulle'), Response(isCorrect=True, word1='ful', word2='fyl'), Response(isCorrect=True, word1='rød', word2='ryd'), Response(isCorrect=True, word1='lys', word2='los'), Response(isCorrect=True, word1='syr', word2='syr'), Response(isCorrect=True, word1='tat', word2='tæt'), Response(isCorrect=True, word1='lidt', word2='let'), Response(isCorrect=True, word1='nø', word2='nø'), Response(isCorrect=False, word1='møl', word2='møl'), Response(isCorrect=True, word1='rør', word2='rær'), Response(isCorrect=True, word1='røre', word2='røre'), Response(isCorrect=False, word1='sinde', word2='sende'), Response(isCorrect=True, word1='gul', word2='guld'), Response(isCorrect=True, word1='set', word2='sæt'), Response(isCorrect=True, word1='grå', word2='grå'), Response(isCorrect=True, word1='før', word2='fær'), Response(isCorrect=True, word1='ben', word2='bøn'), Response(isCorrect=True, word1='fuld', word2='fugl'), Response(isCorrect=True, word1='ful', word2='ful'), Response(isCorrect=False, word1='pil', word2='bil'), Response(isCorrect=True, word1='væg', word2='vægt'), Response(isCorrect=True, word1='lys', word2='lys'), Response(isCorrect=True, word1='nø', word2='nu'), Response(isCorrect=True, word1='sø', word2='su')])\n"
     ]
    }
   ],
   "source": [
    "import json\n",
    "import pandas as pd\n",
    "\n",
    "# Load the data from Excel\n",
    "df = pd.read_excel(\"data.xlsx\")\n",
    "\n",
    "# Create a list to hold all participants' data\n",
    "participants: List[ParticipantData] = []\n",
    "\n",
    "# Process each row in the dataframe\n",
    "for _, row in df.iterrows():\n",
    "    # Extract participant-level data\n",
    "    participant_id = row[\"id\"]\n",
    "    language = row[\"language\"]\n",
    "    responses_json = row[\"response\"]\n",
    "\n",
    "    responses_data = json.loads(responses_json)\n",
    "    participant = ParticipantData(participant_id, language)\n",
    "\n",
    "    # Add responses to the participant\n",
    "    for response in responses_data:\n",
    "        participant.responses.append(\n",
    "            Response(\n",
    "                is_correct=response[\"isCorrect\"],\n",
    "                word1=response[\"word1\"],\n",
    "                word2=response[\"word2\"],\n",
    "            )\n",
    "        )\n",
    "    participants.append(participant)\n",
    "\n",
    "# Accessing the first response of the first participant\n",
    "print(participants[0])"
   ]
  },
  {
   "cell_type": "code",
   "execution_count": null,
   "metadata": {},
   "outputs": [
    {
     "name": "stdout",
     "output_type": "stream",
     "text": [
      "0.9210526315789473\n"
     ]
    }
   ],
   "source": [
    "from collections import defaultdict\n",
    "\n",
    "accuracy_es: List[int] = []\n",
    "accuracy_hu: List[int] = []\n",
    "accuracy_dk: List[int] = []\n",
    "\n",
    "# Function to calculate accuracy for each participant\n",
    "def calculate_participant_accuracy(participant: ParticipantData):\n",
    "    total_trials = 38\n",
    "    correct_trials = sum(1 for p in participant.responses if p.is_correct)\n",
    "    return correct_trials / total_trials if total_trials > 0 else 0\n",
    "\n",
    "print (calculate_participant_accuracy(participants[0]))"
   ]
  },
  {
   "cell_type": "code",
   "execution_count": 68,
   "metadata": {},
   "outputs": [
    {
     "name": "stdout",
     "output_type": "stream",
     "text": [
      "Language: Danish, Average Accuracy: 92.43%\n",
      "Language: Hungarian, Average Accuracy: 75.00%\n",
      "Language: Spanish, Average Accuracy: 73.52%\n",
      "defaultdict(<class 'list'>, {'Danish': [0.9210526315789473, 0.868421052631579, 0.9473684210526315, 0.8947368421052632, 0.9473684210526315, 0.8947368421052632, 1.0, 0.9210526315789473], 'Hungarian': [0.7894736842105263, 0.7894736842105263, 0.7631578947368421, 0.8157894736842105, 0.7368421052631579, 0.7894736842105263, 0.7105263157894737, 0.7631578947368421, 0.8421052631578947, 0.7368421052631579, 0.7368421052631579, 0.7105263157894737, 0.7368421052631579, 0.6842105263157895, 0.7368421052631579, 0.7368421052631579, 0.7105263157894737, 0.7894736842105263, 0.7368421052631579, 0.6842105263157895], 'Spanish': [0.7105263157894737, 0.5789473684210527, 0.8157894736842105, 0.8157894736842105, 0.6842105263157895, 0.868421052631579, 0.7631578947368421, 0.7631578947368421, 0.8421052631578947, 0.631578947368421, 0.5789473684210527, 0.8157894736842105, 0.631578947368421, 0.7105263157894737, 0.8157894736842105, 0.7368421052631579]})\n"
     ]
    }
   ],
   "source": [
    "from collections import defaultdict\n",
    "from typing import Dict, List\n",
    "\n",
    "language_accuracies: Dict[str, List[float]] = defaultdict(list)\n",
    "\n",
    "for participant in participants:\n",
    "    accuracy = calculate_participant_accuracy(participant)\n",
    "    language_accuracies[participant.language].append(accuracy)\n",
    "\n",
    "average_accuracies = {\n",
    "    language: sum(accuracies) / len(accuracies) if accuracies else 0\n",
    "    for language, accuracies in language_accuracies.items()\n",
    "}\n",
    "\n",
    "for language, avg_accuracy in average_accuracies.items():\n",
    "    print(f\"Language: {language}, Average Accuracy: {avg_accuracy:.2%}\")\n",
    "\n",
    "print (language_accuracies)"
   ]
  },
  {
   "cell_type": "code",
   "execution_count": null,
   "metadata": {},
   "outputs": [
    {
     "name": "stdout",
     "output_type": "stream",
     "text": [
      "defaultdict(<class 'list'>, {'Danish': [0.9210526315789473, 0.868421052631579, 0.9473684210526315, 0.8947368421052632, 0.9473684210526315, 0.8947368421052632, 1.0, 0.9210526315789473], 'Hungarian': [0.7894736842105263, 0.7894736842105263, 0.7631578947368421, 0.8157894736842105, 0.7368421052631579, 0.7894736842105263, 0.7105263157894737, 0.7631578947368421, 0.8421052631578947, 0.7368421052631579, 0.7368421052631579, 0.7105263157894737, 0.7368421052631579, 0.6842105263157895, 0.7368421052631579, 0.7368421052631579, 0.7105263157894737, 0.7894736842105263, 0.7368421052631579, 0.6842105263157895], 'Spanish': [0.7105263157894737, 0.5789473684210527, 0.8157894736842105, 0.8157894736842105, 0.6842105263157895, 0.868421052631579, 0.7631578947368421, 0.7631578947368421, 0.8421052631578947, 0.631578947368421, 0.5789473684210527, 0.8157894736842105, 0.631578947368421, 0.7105263157894737, 0.8157894736842105, 0.7368421052631579]})\n"
     ]
    },
    {
     "data": {
      "image/png": "[encoded data removed]",
      "text/plain": [
       "<Figure size 1000x600 with 1 Axes>"
      ]
     },
     "metadata": {},
     "output_type": "display_data"
    }
   ],
   "source": [
    "from collections import defaultdict\n",
    "import matplotlib.pyplot as plt\n",
    "import seaborn as sns\n",
    "import pandas as pd\n",
    "from typing import Dict, List\n",
    "\n",
    "# Initialize the language_accuracies dictionary as defaultdict\n",
    "language_accuracies: Dict[str, List[float]] = defaultdict(list)\n",
    "\n",
    "# Example of a participant data structure\n",
    "# Assuming 'calculate_participant_accuracy' returns accuracy for a participant\n",
    "for participant in participants:\n",
    "    accuracy = calculate_participant_accuracy(participant)\n",
    "    language_accuracies[participant.language].append(accuracy)\n",
    "\n",
    "# If this works correctly, print the dictionary to check the structure\n",
    "print(language_accuracies)\n",
    "\n",
    "# Prepare the data for plotting\n",
    "data = {\n",
    "    \"Language\": [],\n",
    "    \"Accuracy\": [],\n",
    "}\n",
    "\n",
    "# Flatten the data into the format needed for seaborn\n",
    "for language, accuracies in language_accuracies.items():\n",
    "    data[\"Language\"].extend([language] * len(accuracies))\n",
    "    data[\"Accuracy\"].extend(accuracies)\n",
    "\n",
    "# Convert to DataFrame\n",
    "df = pd.DataFrame(data)\n",
    "\n",
    "# Create a boxplot\n",
    "plt.figure(figsize=(10, 6))\n",
    "sns.boxplot(x=\"Language\", y=\"Accuracy\", data=df)\n",
    "\n",
    "# Customize plot\n",
    "plt.title(\"Accuracy Distribution by Language Group\")\n",
    "plt.xlabel(\"Language\")\n",
    "plt.ylabel(\"Accuracy\")\n",
    "plt.show()"
   ]
  }
 ],
 "metadata": {
  "kernelspec": {
   "display_name": "Python 3",
   "language": "python",
   "name": "python3"
  },
  "language_info": {
   "codemirror_mode": {
    "name": "ipython",
    "version": 3
   },
   "file_extension": ".py",
   "mimetype": "text/x-python",
   "name": "python",
   "nbconvert_exporter": "python",
   "pygments_lexer": "ipython3",
   "version": "3.12.6"
  }
 },
 "nbformat": 4,
 "nbformat_minor": 2
}
