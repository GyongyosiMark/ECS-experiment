{
 "cells": [
  {
   "cell_type": "code",
   "execution_count": 46,
   "metadata": {},
   "outputs": [
    {
     "name": "stdout",
     "output_type": "stream",
     "text": [
      "(p=y, es=False, hu=True)\n"
     ]
    }
   ],
   "source": [
    "# Define the Phoneme class\n",
    "class Phoneme:\n",
    "    def __init__(self, p: str, es: bool, hu: bool):\n",
    "        self.p = p \n",
    "        self.es = es\n",
    "        self.hu = hu\n",
    "\n",
    "    def __repr__(self):\n",
    "        return f\"(p={self.p}, es={True if self.es else False}, hu={True if self.hu else False})\"\n",
    "\n",
    "\n",
    "# Create p objects for each unique p\n",
    "phonemes = {\n",
    "    \"y\": Phoneme(p=\"y\", es=False, hu=True),\n",
    "    \"æ\": Phoneme(p=\"æ\", es=False, hu=False),\n",
    "    \"ø\": Phoneme(p=\"ø\", es=False, hu=True),\n",
    "    \"ʁ\": Phoneme(p=\"ʁ\", es=False, hu=False),\n",
    "    \"ɶ\": Phoneme(p=\"ɶ\", es=False, hu=False),\n",
    "    \"u\": Phoneme(p=\"u\", es=True, hu=True),\n",
    "    \"e\": Phoneme(p=\"e\", es=True, hu=True),\n",
    "    \"i\": Phoneme(p=\"i\", es=True, hu=True),\n",
    "    \"a\": Phoneme(p=\"a\", es=True, hu=True),\n",
    "    \"ɛ\": Phoneme(p=\"ɛ\", es=True, hu=True),\n",
    "    \"ɡ\": Phoneme(p=\"ɡ\", es=True, hu=True),\n",
    "    \"v\": Phoneme(p=\"v\", es=True, hu=True),\n",
    "    \"p\": Phoneme(p=\"p\", es=True, hu=True),\n",
    "}\n",
    "\n",
    "\n",
    "# Dictionary for pairs and their associated p contrasts\n",
    "pairs_phonemes = {\n",
    "    ('ful', 'ful'): phonemes['u'],\n",
    "    ('lys', 'lys'): phonemes['y'],\n",
    "    ('mæt', 'mæt'): phonemes['æ'],\n",
    "    ('kat', 'kat'): phonemes['a'],\n",
    "    ('ben', 'ben'): phonemes['e'],\n",
    "    ('grå', 'grå'): phonemes['ʁ'],\n",
    "    ('nø', 'nø'): phonemes['ø'],\n",
    "    ('rød', 'rød'): phonemes['ʁ'],\n",
    "    ('møl', 'møl'): phonemes['ø'],\n",
    "    ('syr', 'syr'): phonemes['y'],\n",
    "    ('dør', 'dør'): phonemes['ɶ'],\n",
    "    ('skæl', 'skæl'): phonemes['æ'],\n",
    "    ('røre', 'røre'): phonemes['ʁ'],\n",
    "    ('fuld', 'fuld'): phonemes['u'],\n",
    "    ('ful', 'fyl'): phonemes['y'],\n",
    "    ('syn', 'søn'): phonemes['ø'],\n",
    "    ('set', 'sæt'): phonemes['æ'],\n",
    "    ('kat', 'kæt'): phonemes['æ'],\n",
    "    ('fisk', 'fæsk'): phonemes['æ'],\n",
    "    ('lys', 'los'): phonemes['y'],\n",
    "    ('ben', 'bøn'): phonemes['ø'],\n",
    "    ('nø', 'nu'): phonemes['ø'],\n",
    "    ('rød', 'ryd'): phonemes['y'],\n",
    "    ('mølle', 'mulle'): phonemes['ø'],\n",
    "    ('syd', 'sød'): phonemes['y'],\n",
    "    ('tat', 'tæt'): phonemes['æ'],\n",
    "    ('sø', 'su'): phonemes['ø'],\n",
    "    ('væg', 'vægt'): phonemes['ɡ'],\n",
    "    ('løg', 'ly'): phonemes['y'],\n",
    "    ('rør', 'rær'): phonemes['æ'],\n",
    "    ('rød', 'lød'): phonemes['ʁ'],\n",
    "    ('fuld', 'fugl'): phonemes['u'],\n",
    "    ('gul', 'guld'): phonemes['u'],\n",
    "    ('sinde', 'sende'): phonemes['i'],\n",
    "    ('pil', 'bil'): phonemes['p'],\n",
    "    ('ven', 'pen'): phonemes['v'],\n",
    "    ('lidt', 'let'): phonemes['ɛ'],\n",
    "    ('før', 'fær'): phonemes['æ']\n",
    "}\n",
    "\n",
    "# print(f\"Total pairs: {len(pairs_phonemes)}\")\n",
    "\n",
    "# for pair, p in pairs_phonemes.items():\n",
    "#     print(f\"{pair} : {p}\")\n",
    "\n",
    "print(pairs_phonemes[(\"løg\", \"ly\")])"
   ]
  },
  {
   "cell_type": "code",
   "execution_count": 47,
   "metadata": {},
   "outputs": [
    {
     "name": "stdout",
     "output_type": "stream",
     "text": [
      "Defaulting to user installation because normal site-packages is not writeable\n",
      "Requirement already satisfied: pandas in c:\\users\\kaiusz\\appdata\\roaming\\python\\python312\\site-packages (2.2.3)\n",
      "Requirement already satisfied: numpy>=1.26.0 in c:\\users\\kaiusz\\appdata\\roaming\\python\\python312\\site-packages (from pandas) (2.1.3)\n",
      "Requirement already satisfied: python-dateutil>=2.8.2 in c:\\users\\kaiusz\\appdata\\roaming\\python\\python312\\site-packages (from pandas) (2.9.0.post0)\n",
      "Requirement already satisfied: pytz>=2020.1 in c:\\users\\kaiusz\\appdata\\roaming\\python\\python312\\site-packages (from pandas) (2024.2)\n",
      "Requirement already satisfied: tzdata>=2022.7 in c:\\users\\kaiusz\\appdata\\roaming\\python\\python312\\site-packages (from pandas) (2024.2)\n",
      "Requirement already satisfied: six>=1.5 in c:\\users\\kaiusz\\appdata\\roaming\\python\\python312\\site-packages (from python-dateutil>=2.8.2->pandas) (1.16.0)\n"
     ]
    },
    {
     "name": "stderr",
     "output_type": "stream",
     "text": [
      "\n",
      "[notice] A new release of pip is available: 24.2 -> 24.3.1\n",
      "[notice] To update, run: python.exe -m pip install --upgrade pip\n"
     ]
    },
    {
     "name": "stdout",
     "output_type": "stream",
     "text": [
      "Defaulting to user installation because normal site-packages is not writeable\n",
      "Requirement already satisfied: openpyxl in c:\\users\\kaiusz\\appdata\\roaming\\python\\python312\\site-packages (3.1.5)\n",
      "Requirement already satisfied: et-xmlfile in c:\\users\\kaiusz\\appdata\\roaming\\python\\python312\\site-packages (from openpyxl) (2.0.0)\n"
     ]
    },
    {
     "name": "stderr",
     "output_type": "stream",
     "text": [
      "\n",
      "[notice] A new release of pip is available: 24.2 -> 24.3.1\n",
      "[notice] To update, run: python.exe -m pip install --upgrade pip\n"
     ]
    },
    {
     "name": "stdout",
     "output_type": "stream",
     "text": [
      "Defaulting to user installation because normal site-packages is not writeable\n",
      "Requirement already satisfied: matplotlib in c:\\users\\kaiusz\\appdata\\roaming\\python\\python312\\site-packages (3.9.2)\n",
      "Requirement already satisfied: contourpy>=1.0.1 in c:\\users\\kaiusz\\appdata\\roaming\\python\\python312\\site-packages (from matplotlib) (1.3.1)\n",
      "Requirement already satisfied: cycler>=0.10 in c:\\users\\kaiusz\\appdata\\roaming\\python\\python312\\site-packages (from matplotlib) (0.12.1)\n",
      "Requirement already satisfied: fonttools>=4.22.0 in c:\\users\\kaiusz\\appdata\\roaming\\python\\python312\\site-packages (from matplotlib) (4.55.0)\n",
      "Requirement already satisfied: kiwisolver>=1.3.1 in c:\\users\\kaiusz\\appdata\\roaming\\python\\python312\\site-packages (from matplotlib) (1.4.7)\n",
      "Requirement already satisfied: numpy>=1.23 in c:\\users\\kaiusz\\appdata\\roaming\\python\\python312\\site-packages (from matplotlib) (2.1.3)\n",
      "Requirement already satisfied: packaging>=20.0 in c:\\users\\kaiusz\\appdata\\roaming\\python\\python312\\site-packages (from matplotlib) (24.2)\n",
      "Requirement already satisfied: pillow>=8 in c:\\users\\kaiusz\\appdata\\roaming\\python\\python312\\site-packages (from matplotlib) (11.0.0)\n",
      "Requirement already satisfied: pyparsing>=2.3.1 in c:\\users\\kaiusz\\appdata\\roaming\\python\\python312\\site-packages (from matplotlib) (3.2.0)\n",
      "Requirement already satisfied: python-dateutil>=2.7 in c:\\users\\kaiusz\\appdata\\roaming\\python\\python312\\site-packages (from matplotlib) (2.9.0.post0)\n",
      "Requirement already satisfied: six>=1.5 in c:\\users\\kaiusz\\appdata\\roaming\\python\\python312\\site-packages (from python-dateutil>=2.7->matplotlib) (1.16.0)\n"
     ]
    },
    {
     "name": "stderr",
     "output_type": "stream",
     "text": [
      "\n",
      "[notice] A new release of pip is available: 24.2 -> 24.3.1\n",
      "[notice] To update, run: python.exe -m pip install --upgrade pip\n"
     ]
    }
   ],
   "source": [
    "!pip install pandas\n",
    "!pip install openpyxl\n",
    "!pip install matplotlib"
   ]
  },
  {
   "cell_type": "code",
   "execution_count": 48,
   "metadata": {},
   "outputs": [],
   "source": [
    "from typing import List\n",
    "\n",
    "class Response:\n",
    "    def __init__(self, is_correct: bool, word1: str, word2: str):\n",
    "        self.is_correct = is_correct\n",
    "        self.word1 = word1\n",
    "        self.word2 = word2\n",
    "        self.phoneme = pairs_phonemes[(word1, word2)]\n",
    "\n",
    "    def __repr__(self):\n",
    "        return (\n",
    "            f\"Response(isCorrect={self.is_correct}, \"\n",
    "            f\"word1='{self.word1}', word2='{self.word2}')\"\n",
    "        )\n",
    "\n",
    "\n",
    "# Class for participant data\n",
    "class ParticipantData:\n",
    "    def __init__(self, participant_id: str, language: str):\n",
    "        self.id = participant_id\n",
    "        self.language = language\n",
    "        self.responses: List[Response] = []  # Initialize as an empty list\n",
    "\n",
    "    def __repr__(self):\n",
    "        return (\n",
    "            f\"ParticipantData(id={self.id}, language='{self.language}', \"\n",
    "            f\"responses={self.responses})\"\n",
    "        )"
   ]
  },
  {
   "cell_type": "code",
   "execution_count": 49,
   "metadata": {},
   "outputs": [
    {
     "name": "stdout",
     "output_type": "stream",
     "text": [
      "(p=ʁ, es=False, hu=False) Response(isCorrect=True, word1='rød', word2='rød')\n"
     ]
    }
   ],
   "source": [
    "import json\n",
    "import pandas as pd\n",
    "\n",
    "# Load the data from Excel\n",
    "df = pd.read_excel(\"data.xlsx\")\n",
    "\n",
    "# Create a list to hold all participants' data\n",
    "participants: List[ParticipantData] = []\n",
    "\n",
    "# Process each row in the dataframe\n",
    "for _, row in df.iterrows():\n",
    "    # Extract participant-level data\n",
    "    participant_id = row[\"Participant ID\"]\n",
    "    language = row[\"L1\"]\n",
    "    responses_json = row[\"Data\"]\n",
    "\n",
    "    responses_data = json.loads(responses_json)\n",
    "    participant = ParticipantData(participant_id, language)\n",
    "\n",
    "    # Add responses to the participant\n",
    "    for response in responses_data:\n",
    "        participant.responses.append(\n",
    "            Response(\n",
    "                is_correct=response[\"isCorrect\"],\n",
    "                word1=response[\"word1\"],\n",
    "                word2=response[\"word2\"],\n",
    "            )\n",
    "        )\n",
    "    participants.append(participant)\n",
    "\n",
    "# Accessing the first response of the first participant\n",
    "print(participants[0].responses[0].phoneme, participants[0].responses[0])"
   ]
  },
  {
   "cell_type": "code",
   "execution_count": 50,
   "metadata": {},
   "outputs": [
    {
     "name": "stdout",
     "output_type": "stream",
     "text": [
      "0.9210526315789473\n"
     ]
    }
   ],
   "source": [
    "from collections import defaultdict\n",
    "\n",
    "accuracy_es: List[int] = []\n",
    "accuracy_hu: List[int] = []\n",
    "accuracy_dk: List[int] = []\n",
    "\n",
    "# Function to calculate accuracy for each participant\n",
    "def calculate_participant_accuracy(participant: ParticipantData):\n",
    "    total_trials = 38\n",
    "    correct_trials = sum(1 for p in participant.responses if p.is_correct)\n",
    "    return correct_trials / total_trials if total_trials > 0 else 0\n",
    "\n",
    "print (calculate_participant_accuracy(participants[0]))"
   ]
  },
  {
   "cell_type": "code",
   "execution_count": 51,
   "metadata": {},
   "outputs": [
    {
     "name": "stdout",
     "output_type": "stream",
     "text": [
      "Language: Danish, Average Accuracy: 92.43%\n",
      "Language: Hungarian, Average Accuracy: 74.81%\n",
      "Language: Spanish, Average Accuracy: 73.18%\n",
      "defaultdict(<class 'list'>, {'Danish': [0.9210526315789473, 0.868421052631579, 0.9473684210526315, 0.8947368421052632, 0.9473684210526315, 0.8947368421052632, 1.0, 0.9210526315789473], 'Hungarian': [0.7894736842105263, 0.7894736842105263, 0.7631578947368421, 0.8157894736842105, 0.7368421052631579, 0.7894736842105263, 0.7105263157894737, 0.7631578947368421, 0.8421052631578947, 0.7368421052631579, 0.7368421052631579, 0.7105263157894737, 0.7368421052631579, 0.6842105263157895, 0.7368421052631579, 0.7368421052631579, 0.7105263157894737, 0.7894736842105263, 0.7368421052631579, 0.6842105263157895, 0.7105263157894737], 'Spanish': [0.7105263157894737, 0.5789473684210527, 0.8157894736842105, 0.8157894736842105, 0.6842105263157895, 0.868421052631579, 0.7631578947368421, 0.7631578947368421, 0.8421052631578947, 0.631578947368421, 0.5789473684210527, 0.8157894736842105, 0.631578947368421, 0.7105263157894737, 0.8157894736842105, 0.7368421052631579, 0.5526315789473685, 0.6578947368421053, 0.8421052631578947, 0.7368421052631579, 0.8157894736842105]})\n",
      "Language: Danish, Number of Accuracies: 8\n",
      "Language: Hungarian, Number of Accuracies: 21\n",
      "Language: Spanish, Number of Accuracies: 21\n"
     ]
    }
   ],
   "source": [
    "from collections import defaultdict\n",
    "from typing import Dict, List\n",
    "\n",
    "language_accuracies: Dict[str, List[float]] = defaultdict(list)\n",
    "\n",
    "for participant in participants:\n",
    "    accuracy = calculate_participant_accuracy(participant)\n",
    "    language_accuracies[participant.language].append(accuracy)\n",
    "\n",
    "average_accuracies = {\n",
    "    language: sum(accuracies) / len(accuracies) if accuracies else 0\n",
    "    for language, accuracies in language_accuracies.items()\n",
    "}\n",
    "\n",
    "for language, avg_accuracy in average_accuracies.items():\n",
    "    print(f\"Language: {language}, Average Accuracy: {avg_accuracy:.2%}\")\n",
    "\n",
    "print (language_accuracies)\n",
    "\n",
    "for language, accuracies in language_accuracies.items():\n",
    "    print(f\"Language: {language}, Number of Accuracies: {len(accuracies)}\")"
   ]
  },
  {
   "cell_type": "code",
   "execution_count": 52,
   "metadata": {},
   "outputs": [
    {
     "name": "stdout",
     "output_type": "stream",
     "text": [
      "defaultdict(<class 'list'>, {'Danish': [0.9210526315789473, 0.868421052631579, 0.9473684210526315, 0.8947368421052632, 0.9473684210526315, 0.8947368421052632, 1.0, 0.9210526315789473], 'Hungarian': [0.7894736842105263, 0.7894736842105263, 0.7631578947368421, 0.8157894736842105, 0.7368421052631579, 0.7894736842105263, 0.7105263157894737, 0.7631578947368421, 0.8421052631578947, 0.7368421052631579, 0.7368421052631579, 0.7105263157894737, 0.7368421052631579, 0.6842105263157895, 0.7368421052631579, 0.7368421052631579, 0.7105263157894737, 0.7894736842105263, 0.7368421052631579, 0.6842105263157895, 0.7105263157894737], 'Spanish': [0.7105263157894737, 0.5789473684210527, 0.8157894736842105, 0.8157894736842105, 0.6842105263157895, 0.868421052631579, 0.7631578947368421, 0.7631578947368421, 0.8421052631578947, 0.631578947368421, 0.5789473684210527, 0.8157894736842105, 0.631578947368421, 0.7105263157894737, 0.8157894736842105, 0.7368421052631579, 0.5526315789473685, 0.6578947368421053, 0.8421052631578947, 0.7368421052631579, 0.8157894736842105]})\n"
     ]
    },
    {
     "name": "stderr",
     "output_type": "stream",
     "text": [
      "C:\\Users\\Kaiusz\\AppData\\Local\\Temp\\ipykernel_42464\\3603946052.py:35: FutureWarning: \n",
      "\n",
      "Passing `palette` without assigning `hue` is deprecated and will be removed in v0.14.0. Assign the `x` variable to `hue` and set `legend=False` for the same effect.\n",
      "\n",
      "  sns.boxplot(\n",
      "C:\\Users\\Kaiusz\\AppData\\Local\\Temp\\ipykernel_42464\\3603946052.py:45: FutureWarning: \n",
      "\n",
      "Passing `palette` without assigning `hue` is deprecated and will be removed in v0.14.0. Assign the `x` variable to `hue` and set `legend=False` for the same effect.\n",
      "\n",
      "  sns.stripplot(\n"
     ]
    },
    {
     "data": {
      "image/png": "[encoded data removed]",
      "text/plain": [
       "<Figure size 1200x800 with 1 Axes>"
      ]
     },
     "metadata": {},
     "output_type": "display_data"
    }
   ],
   "source": [
    "from collections import defaultdict\n",
    "import matplotlib.pyplot as plt\n",
    "import seaborn as sns\n",
    "import pandas as pd\n",
    "from typing import Dict, List\n",
    "\n",
    "# Initialize the language_accuracies dictionary as defaultdict\n",
    "language_accuracies: Dict[str, List[float]] = defaultdict(list)\n",
    "\n",
    "# Example of a participant data structure\n",
    "# Assuming 'calculate_participant_accuracy' returns accuracy for a participant\n",
    "for participant in participants:\n",
    "    accuracy = calculate_participant_accuracy(participant)\n",
    "    language_accuracies[participant.language].append(accuracy)\n",
    "\n",
    "# If this works correctly, print the dictionary to check the structure\n",
    "print(language_accuracies)\n",
    "\n",
    "# Prepare the data for plotting\n",
    "data = {\n",
    "    \"Language\": [],\n",
    "    \"Accuracy\": [],\n",
    "}\n",
    "\n",
    "# Flatten the data into the format needed for seaborn\n",
    "for language, accuracies in language_accuracies.items():\n",
    "    data[\"Language\"].extend([language] * len(accuracies))\n",
    "    data[\"Accuracy\"].extend(accuracies)\n",
    "\n",
    "# Convert to DataFrame\n",
    "df = pd.DataFrame(data)\n",
    "\n",
    "# Create a boxplot\n",
    "plt.figure(figsize=(12, 8))\n",
    "sns.boxplot(\n",
    "    x=\"Language\",\n",
    "    y=\"Accuracy\",\n",
    "    data=df,\n",
    "    palette=\"Set3\",\n",
    "    showfliers=False,\n",
    "    width=0.6,  # Make boxplots slightly narrower to enhance distinction\n",
    ")\n",
    "\n",
    "# Overlay the data cloud with a stripplot\n",
    "sns.stripplot(\n",
    "    x=\"Language\",\n",
    "    y=\"Accuracy\",\n",
    "    data=df,\n",
    "    jitter=True,\n",
    "    size=8,  # Increase dot size\n",
    "    alpha=0.9,  # Make dots less transparent\n",
    "    palette=\"Set2\",\n",
    "    edgecolor=\"black\",  # Add a black edge for better visibility\n",
    "    linewidth=1,  # Slightly thicker edges\n",
    ")\n",
    "\n",
    "# Customize the plot\n",
    "plt.title(\"Accuracy Distribution and Data Cloud by Language Group\")\n",
    "plt.xlabel(\"Language\")\n",
    "plt.ylabel(\"Accuracy\")\n",
    "plt.tight_layout()\n",
    "plt.show()"
   ]
  }
 ],
 "metadata": {
  "kernelspec": {
   "display_name": "Python 3",
   "language": "python",
   "name": "python3"
  },
  "language_info": {
   "codemirror_mode": {
    "name": "ipython",
    "version": 3
   },
   "file_extension": ".py",
   "mimetype": "text/x-python",
   "name": "python",
   "nbconvert_exporter": "python",
   "pygments_lexer": "ipython3",
   "version": "3.12.6"
  }
 },
 "nbformat": 4,
 "nbformat_minor": 2
}
